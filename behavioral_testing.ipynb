{
 "cells": [
  {
   "cell_type": "code",
   "execution_count": 30,
   "metadata": {},
   "outputs": [],
   "source": [
    "import checklist \n",
    "import spacy\n",
    "from transformers import pipeline\n",
    "from transformers import AutoModelForTokenClassification, AutoTokenizer\n",
    "from typing import List\n"
   ]
  },
  {
   "cell_type": "code",
   "execution_count": 31,
   "metadata": {},
   "outputs": [
    {
     "name": "stderr",
     "output_type": "stream",
     "text": [
      "/Users/nikhilravikrishnan/opt/anaconda3/envs/slot_filling/lib/python3.8/site-packages/spacy/util.py:877: UserWarning: [W095] Model 'en_core_web_sm' (3.5.0) was trained with spaCy v3.5 and may not be 100% compatible with the current version (3.4.4). If you see errors or degraded performance, download a newer compatible model or retrain your custom model with the current spaCy version. For more details and available updates, run: python -m spacy validate\n",
      "  warnings.warn(warn_msg)\n"
     ]
    }
   ],
   "source": [
    "nlp = spacy.load('en_core_web_sm')"
   ]
  },
  {
   "cell_type": "code",
   "execution_count": 32,
   "metadata": {},
   "outputs": [],
   "source": [
    "tokenizer = AutoTokenizer.from_pretrained(\"./results/model/checkpoint-240/\")\n",
    "model = AutoModelForTokenClassification.from_pretrained(\"./results/model/checkpoint-240/\")"
   ]
  },
  {
   "cell_type": "code",
   "execution_count": 33,
   "metadata": {},
   "outputs": [],
   "source": [
    "token_classifier = pipeline(\"token-classification\", model=model, tokenizer=tokenizer, aggregation_strategy= \"average\")"
   ]
  },
  {
   "cell_type": "code",
   "execution_count": 69,
   "metadata": {},
   "outputs": [],
   "source": [
    "def predict_model(inputs):\n",
    "    \"\"\"\n",
    "    Wrapper function for model prediction\n",
    "    Args: \n",
    "    \"\"\"\n",
    "    predictions = token_classifier(inputs)\n",
    "    # predictions = [p['word'] for p in predictions]\n",
    "    return predictions"
   ]
  },
  {
   "cell_type": "code",
   "execution_count": 70,
   "metadata": {},
   "outputs": [],
   "source": [
    "def read_lines(filename: str) -> List[str]:\n",
    "    \"\"\"\n",
    "    Read templates from a .txt file containing templates.\n",
    "    Args: \n",
    "        Path to file (str)\n",
    "    Returns: \n",
    "        List of templates (str)\n",
    "    \"\"\"\n",
    "    with open(filename, 'r') as f:\n",
    "        lines = f.read().splitlines()\n",
    "    return lines"
   ]
  },
  {
   "cell_type": "code",
   "execution_count": 71,
   "metadata": {},
   "outputs": [],
   "source": [
    "# Wrapper just returns dummy confidence in addition to predictions\n",
    "from checklist.pred_wrapper import PredictorWrapper\n",
    "predict_and_conf = PredictorWrapper.wrap_predict(predict_model)"
   ]
  },
  {
   "cell_type": "code",
   "execution_count": 72,
   "metadata": {},
   "outputs": [],
   "source": [
    "import checklist\n",
    "from checklist.editor import Editor\n",
    "from checklist.perturb import Perturb\n",
    "from checklist.test_types import MFT, INV, DIR\n",
    "from checklist.expect import Expect\n",
    "editor = Editor()"
   ]
  },
  {
   "attachments": {},
   "cell_type": "markdown",
   "metadata": {},
   "source": [
    "# Person Tests"
   ]
  },
  {
   "cell_type": "code",
   "execution_count": 73,
   "metadata": {},
   "outputs": [],
   "source": [
    "def found_people(x, pred, conf, label=None, meta=None):\n",
    "    people = set([meta['first_name'].lower(), meta['last_name'].lower()])\n",
    "    pass_ = True\n",
    "    for x in pred:\n",
    "        words = set(x['word'].split())\n",
    "        if len(words & people) == len(words | people) and x['entity_group'] != 'PERSON':\n",
    "            pass_ = False\n",
    "        if len(words & people) != len(words | people) and x['entity_group'] == 'PERSON':\n",
    "            pass_ = False\n",
    "    return pass_\n",
    "expect_fn = Expect.single(found_people)"
   ]
  },
  {
   "cell_type": "code",
   "execution_count": 74,
   "metadata": {},
   "outputs": [],
   "source": [
    "def format_ner(x, pred, conf, label=None, meta=None):\n",
    "    print(pred)\n",
    "    return ' '.join(['%s(%s)' % (x, x['entity_group']) for x in pred])"
   ]
  },
  {
   "cell_type": "code",
   "execution_count": 75,
   "metadata": {},
   "outputs": [],
   "source": [
    "person_templates = read_lines('./data/person_test_templates.txt')"
   ]
  },
  {
   "cell_type": "code",
   "execution_count": 82,
   "metadata": {},
   "outputs": [
    {
     "name": "stdout",
     "output_type": "stream",
     "text": [
      "Predicting 300 examples\n"
     ]
    },
    {
     "data": {
      "application/vnd.jupyter.widget-view+json": {
       "model_id": "cf426d09ae0949b3b6732b61ba4ce248",
       "version_major": 2,
       "version_minor": 0
      },
      "text/plain": [
       "TestSummarizer(stats={'npassed': 288, 'nfailed': 12, 'nfiltered': 0}, summarizer={'name': None, 'description':…"
      ]
     },
     "execution_count": 82,
     "metadata": {},
     "output_type": "execute_result"
    }
   ],
   "source": [
    "t = editor.template('{first_name} {last_name}',  meta=True, nsamples=300)\n",
    "test = MFT(**t, expect=expect_fn)\n",
    "test.run(predict_and_conf)\n",
    "test.visual_summary()"
   ]
  },
  {
   "cell_type": "markdown",
   "metadata": {},
   "source": [
    "# GPE Tests"
   ]
  },
  {
   "cell_type": "code",
   "execution_count": 87,
   "metadata": {},
   "outputs": [],
   "source": [
    "# This assumes that pred is a spacy Doc, and that 'meta' contains 'first_name' and 'last_name'.\n",
    "def found_city(x, pred, conf, label=None, meta=None):\n",
    "    city = set([meta['city'].lower()])\n",
    "    pass_ = True\n",
    "    for p in pred:\n",
    "        words = set(p['word'].split())\n",
    "        if len(words & city) == len(words | city) and p['entity_group'] != 'GPE':\n",
    "            # print(words, city)\n",
    "            pass_ = False\n",
    "        if len(words & city) != len(words | city) and p['entity_group'] == 'GPE':\n",
    "            # print(words, city)\n",
    "            pass_ = False\n",
    "    return pass_\n",
    "expect_fn = Expect.single(found_city)"
   ]
  },
  {
   "cell_type": "code",
   "execution_count": 88,
   "metadata": {},
   "outputs": [],
   "source": [
    "city_templates = read_lines('./data/city_templates_testing.txt')"
   ]
  },
  {
   "cell_type": "code",
   "execution_count": 89,
   "metadata": {},
   "outputs": [
    {
     "name": "stdout",
     "output_type": "stream",
     "text": [
      "Predicting 300 examples\n"
     ]
    }
   ],
   "source": [
    "t = editor.template('{city}',  meta=True, nsamples=300)\n",
    "test = MFT(**t, expect=expect_fn)\n",
    "test.run(predict_and_conf)\n",
    "test.summary(format_example_fn=format_ner)"
   ]
  },
  {
   "cell_type": "code",
   "execution_count": 86,
   "metadata": {},
   "outputs": [
    {
     "data": {
      "application/vnd.jupyter.widget-view+json": {
       "model_id": "e8f0c0ca4d954aba9f594dd1ce6944c2",
       "version_major": 2,
       "version_minor": 0
      },
      "text/plain": [
       "TestSummarizer(stats={'npassed': 204, 'nfailed': 93, 'nfiltered': 0}, summarizer={'name': None, 'description':…"
      ]
     },
     "execution_count": 86,
     "metadata": {},
     "output_type": "execute_result"
    }
   ],
   "source": [
    "test.visual_summary()"
   ]
  },
  {
   "cell_type": "code",
   "execution_count": null,
   "metadata": {},
   "outputs": [],
   "source": []
  }
 ],
 "metadata": {
  "kernelspec": {
   "display_name": "slot_filling",
   "language": "python",
   "name": "python3"
  },
  "language_info": {
   "codemirror_mode": {
    "name": "ipython",
    "version": 3
   },
   "file_extension": ".py",
   "mimetype": "text/x-python",
   "name": "python",
   "nbconvert_exporter": "python",
   "pygments_lexer": "ipython3",
   "version": "3.8.16"
  },
  "orig_nbformat": 4,
  "vscode": {
   "interpreter": {
    "hash": "eccf0fd60d2f702fb925cf0205c9b5fbc1c6644f89748d2ccbe2603bf5ec9081"
   }
  }
 },
 "nbformat": 4,
 "nbformat_minor": 2
}
